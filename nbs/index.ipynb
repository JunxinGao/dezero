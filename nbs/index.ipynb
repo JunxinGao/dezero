{
 "cells": [
  {
   "cell_type": "code",
   "execution_count": null,
   "metadata": {},
   "outputs": [],
   "source": [
    "#hide\n",
    "#from your_lib.core import *"
   ]
  },
  {
   "cell_type": "markdown",
   "metadata": {},
   "source": [
    "# dezero study\n",
    "\n",
    "> Learn [DeZero Book](https://koki0702.github.io/dezero-book/)"
   ]
  },
  {
   "cell_type": "markdown",
   "metadata": {},
   "source": [
    "![CI](https://github.com/junxingao/dezero/workflows/CI/badge.svg) ![docs](https://github.com/junxingao/dezero/workflows/docs/badge.svg)"
   ]
  },
  {
   "cell_type": "markdown",
   "metadata": {},
   "source": [
    "- This project generate from [nbdev](https://nbdev.fast.ai/)\n",
    "- [Offical Samples](https://github.com/oreilly-japan/deep-learning-from-scratch-3)"
   ]
  }
 ],
 "metadata": {
  "kernelspec": {
   "display_name": "Python 3",
   "language": "python",
   "name": "python3"
  }
 },
 "nbformat": 4,
 "nbformat_minor": 2
}
